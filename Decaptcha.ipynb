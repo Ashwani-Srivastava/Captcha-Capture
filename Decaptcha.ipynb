{
 "cells": [
  {
   "cell_type": "code",
   "execution_count": 57,
   "metadata": {},
   "outputs": [],
   "source": [
    "import os\n",
    "import glob\n",
    "import cv2\n",
    "import cv2\n",
    "import numpy as np\n",
    "import matplotlib.pyplot as plt\n",
    "import matplotlib.image as pltimg\n",
    "import math\n",
    "images = [cv2.imread(file) for file in glob.glob(\"images/*.png\")]\n",
    "names = []\n",
    "with os.scandir('images/') as entries:\n",
    "    for entry in entries:\n",
    "        names.append(entry.name)\n"
   ]
  },
  {
   "cell_type": "code",
   "execution_count": null,
   "metadata": {},
   "outputs": [],
   "source": []
  },
  {
   "cell_type": "code",
   "execution_count": 58,
   "metadata": {},
   "outputs": [
    {
     "data": {
      "image/png": "[encoded data removed]",
      "text/plain": [
       "<Figure size 432x288 with 1 Axes>"
      ]
     },
     "metadata": {
      "needs_background": "light"
     },
     "output_type": "display_data"
    }
   ],
   "source": [
    "a=images[0]\n",
    "for j in range(a.shape[0]):\n",
    "    for k in range(a.shape[1]):\n",
    "        for l in range(3):\n",
    "            \n",
    "            if(a[a.shape[0]-1][a.shape[1]-1][l]==a[j][k][l]):\n",
    "#                 a[j][k][l]-=a[a.shape[0]-1][a.shape[1]-1][l]\n",
    "                    a[j][k][l]=0\n",
    "imggplot = plt.imshow(a, vmin=0, vmax=255)\n",
    "plt.show()"
   ]
  },
  {
   "cell_type": "code",
   "execution_count": 59,
   "metadata": {},
   "outputs": [],
   "source": [
    "# Reading the input image \n",
    "# img = cv2.imread('input.png', 0) \n",
    "   \n",
    "# Taking a matrix of size 5 as the kernel \n",
    "kernel = np.ones((3,3), np.uint8) \n",
    "  \n",
    "# The first parameter is the original image, \n",
    "# kernel is the matrix with which image is  \n",
    "# convolved and third parameter is the number  \n",
    "# of iterations, which will determine how much  \n",
    "# you want to erode/dilate a given image.  \n",
    "img_erosion = cv2.erode(a, kernel, iterations=4) \n",
    "\n",
    "cv2.imshow('Erosion', img_erosion)\n",
    " \n",
    "# img_dilation = cv2.dilate(img_erosion, kernel, iterations=2) \n",
    "# cv2.imshow('Dilation', img_dilation)\n",
    "# img_erosion = cv2.erode(img_dilation, kernel, iterations=2)\n",
    "# img_dilation = cv2.dilate(img_erosion, kernel, iterations=2) \n",
    "# img_erosion = cv2.erode(img_dilation, kernel, iterations=2)\n",
    "# mg_dilation = cv2.dilate(img_erosion, kernel, iterations=2) \n",
    "# img_erosion = cv2.erode(img_dilation, kernel, iterations=2)\n",
    "# img_dilation = cv2.dilate(img_erosion, kernel, iterations=2) \n",
    "# img_erosion = cv2.erode(img_dilation, kernel, iterations=2)\n",
    "# mg_dilation = cv2.dilate(img_erosion, kernel, iterations=2) \n",
    "# img_erosion = cv2.erode(img_dilation, kernel, iterations=2)\n",
    "# img_dilation = cv2.dilate(img_erosion, kernel, iterations=2) \n",
    "# img_erosion = cv2.erode(img_dilation, kernel, iterations=2)\n",
    "# img2=np.add(img_dilation,img_erosion)/2\n",
    "cv2.imwrite(\"hello.jpeg\",img_erosion)\n",
    "img2=cv2.imread(\"hello.jpeg\",0)\n",
    "kernel = np.ones((7,7), np.uint8)\n",
    "img2 = cv2.dilate(img2, kernel, iterations=1)\n",
    "for j in range(img2.shape[0]):\n",
    "    for k in range(img2.shape[1]):\n",
    "        \n",
    "            \n",
    "            if(img2[j][k]>=90):\n",
    "                img2[j][k]=0\n",
    "            else:\n",
    "                img2[j][k]=255\n",
    "# kernel = np.ones((7,7), np.uint8)\n",
    "# img_dilation = cv2.dilate(img2, kernel, iterations=2) \n",
    "# img_erosion = cv2.erode(img2, kernel, iterations=2)\n",
    "# cv2.imshow('Input', a) \n",
    "# cv2.imshow('Erosion', img_erosion) \n",
    "# cv2.imshow('Dilation', img_dilation) \n",
    "# cv2.imshow('sum', img2)  \n",
    "# cv2.waitKey(0) \n",
    "# cv2.destroyAllWindows()\n"
   ]
  },
  {
   "cell_type": "code",
   "execution_count": 60,
   "metadata": {},
   "outputs": [],
   "source": [
    "images2=[]\n",
    "i=0\n",
    "while i <img2.shape[1]:\n",
    "    start=0\n",
    "    end=0\n",
    "    start2=0\n",
    "    end2=0\n",
    "    f=0\n",
    "    p=0\n",
    "    for j in range(img2.shape[0]):\n",
    "        if (f==0 and img2[j][i]<10):\n",
    "            start=i\n",
    "            f=1\n",
    "            break\n",
    "        \n",
    "    if f==1:\n",
    "        \n",
    "        for j in range(start,img2.shape[1]):\n",
    "            t=1\n",
    "#             print(j)\n",
    "            for k in range(img2.shape[0]):\n",
    "                if(img2[k][j]<10):\n",
    "                    end=j\n",
    "                    t=0\n",
    "                    end2=k\n",
    "                    break\n",
    "            if t==1:\n",
    "                i=j+5\n",
    "#                 print(str(max(start-5,0))+\",\" + str(min(end+5,img2.shape[1])))\n",
    "                img3=img2[:,max(start-5,0):min(end+5,img2.shape[1])]\n",
    "#                 cv2.imshow('hello', img3)  \n",
    "#                 cv2.waitKey(0) \n",
    "#                 cv2.destroyAllWindows()\n",
    "                images2.append(img3)\n",
    "                f=0\n",
    "                break\n",
    "    i=i+1"
   ]
  },
  {
   "cell_type": "code",
   "execution_count": 61,
   "metadata": {},
   "outputs": [],
   "source": [
    "for i in images2:\n",
    "    i= cv2.copyMakeBorder(i,0,0,(i.shape[0]-i.shape[1])//2,(i.shape[0]-i.shape[1])//2,cv2.BORDER_CONSTANT,value=255)\n",
    "#     cv2.imshow('hello', i)  \n",
    "#     cv2.waitKey(0) \n",
    "#     cv2.destroyAllWindows()"
   ]
  },
  {
   "cell_type": "code",
   "execution_count": null,
   "metadata": {},
   "outputs": [],
   "source": []
  }
 ],
 "metadata": {
  "kernelspec": {
   "display_name": "Python 3",
   "language": "python",
   "name": "python3"
  },
  "language_info": {
   "codemirror_mode": {
    "name": "ipython",
    "version": 3
   },
   "file_extension": ".py",
   "mimetype": "text/x-python",
   "name": "python",
   "nbconvert_exporter": "python",
   "pygments_lexer": "ipython3",
   "version": "3.7.6"
  }
 },
 "nbformat": 4,
 "nbformat_minor": 2
}
